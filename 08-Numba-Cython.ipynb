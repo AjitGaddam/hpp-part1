{
 "cells": [
  {
   "cell_type": "markdown",
   "metadata": {},
   "source": [
    "# Numba vs Cython\n",
    "\n",
    "### What is Cython?\n",
    "\n",
    "*The Cython language is a superset of the Python language that additionally supports calling C functions and declaring C types on variables and class attributes.*\n",
    "\n",
    "https://cython.org/\n",
    "\n",
    "Heavily used in libraries like Pandas and Scikit-Learn\n",
    "\n",
    "### Is it faster or slower than Numba?\n",
    "\n",
    "Today, the tools are near parity in general performance\n",
    "\n",
    "http://gouthamanbalaraman.com/blog/optimizing-python-numba-vs-cython.html\n",
    "\n",
    "### Why Numba?\n",
    "\n",
    "In a nutshell, it's easier for Python devs to use\n",
    "\n",
    "https://matthewrocklin.com/blog/work/2018/01/30/the-case-for-numba\n",
    "\n",
    "### Why Not Numba?\n",
    "\n",
    "* Better debugging\n",
    "* Easily wrap existing C functions if you have them\n",
    "\n",
    "https://github.com/pydata/sparse/issues/126#issuecomment-370234478\n",
    "\n",
    "And a few issues mentioned by Matt Rocklin in \"The Case for Numba...\"\n",
    "\n",
    "### Takeaway\n",
    "\n",
    "It is arguable that for __application developers__ including line-of-business devs, data science app devs, etc., Numba has clear benefits, and few drawbacks.\n",
    "\n",
    "The picture is a little more complex for library developers. If you are creating a low(ish) level library or tool which will be widely distributed, in environments that you cannot control, and you are aiming for the broadest possible support scenarios, then Cython may be worth considering."
   ]
  },
  {
   "cell_type": "code",
   "execution_count": null,
   "metadata": {},
   "outputs": [],
   "source": []
  }
 ],
 "metadata": {
  "kernelspec": {
   "display_name": "Python 3",
   "language": "python",
   "name": "python3"
  },
  "language_info": {
   "codemirror_mode": {
    "name": "ipython",
    "version": 3
   },
   "file_extension": ".py",
   "mimetype": "text/x-python",
   "name": "python",
   "nbconvert_exporter": "python",
   "pygments_lexer": "ipython3",
   "version": "3.7.6"
  }
 },
 "nbformat": 4,
 "nbformat_minor": 4
}
